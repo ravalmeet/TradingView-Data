{
 "cells": [
  {
   "cell_type": "code",
   "execution_count": 1,
   "metadata": {},
   "outputs": [],
   "source": [
    "%matplotlib inline"
   ]
  },
  {
   "cell_type": "code",
   "execution_count": 7,
   "metadata": {},
   "outputs": [],
   "source": [
    "from TradingviewData import TredingViewData,Interval"
   ]
  },
  {
   "cell_type": "code",
   "execution_count": null,
   "metadata": {},
   "outputs": [],
   "source": []
  },
  {
   "cell_type": "code",
   "execution_count": 8,
   "metadata": {},
   "outputs": [],
   "source": [
    "# initialize tradingview\n",
    "\n",
    "tv = TredingViewData()"
   ]
  },
  {
   "cell_type": "code",
   "execution_count": 9,
   "metadata": {},
   "outputs": [
    {
     "data": {
      "text/html": [
       "<div>\n",
       "<style scoped>\n",
       "    .dataframe tbody tr th:only-of-type {\n",
       "        vertical-align: middle;\n",
       "    }\n",
       "\n",
       "    .dataframe tbody tr th {\n",
       "        vertical-align: top;\n",
       "    }\n",
       "\n",
       "    .dataframe thead th {\n",
       "        text-align: right;\n",
       "    }\n",
       "</style>\n",
       "<table border=\"1\" class=\"dataframe\">\n",
       "  <thead>\n",
       "    <tr style=\"text-align: right;\">\n",
       "      <th></th>\n",
       "      <th>symbol</th>\n",
       "      <th>open</th>\n",
       "      <th>high</th>\n",
       "      <th>low</th>\n",
       "      <th>close</th>\n",
       "      <th>volume</th>\n",
       "    </tr>\n",
       "    <tr>\n",
       "      <th>datetime</th>\n",
       "      <th></th>\n",
       "      <th></th>\n",
       "      <th></th>\n",
       "      <th></th>\n",
       "      <th></th>\n",
       "      <th></th>\n",
       "    </tr>\n",
       "  </thead>\n",
       "  <tbody>\n",
       "    <tr>\n",
       "      <th>2023-01-30 20:00:00</th>\n",
       "      <td>NASDAQ:AAPL</td>\n",
       "      <td>144.955</td>\n",
       "      <td>145.5500</td>\n",
       "      <td>142.850</td>\n",
       "      <td>143.00</td>\n",
       "      <td>64015274.0</td>\n",
       "    </tr>\n",
       "    <tr>\n",
       "      <th>2023-01-31 20:00:00</th>\n",
       "      <td>NASDAQ:AAPL</td>\n",
       "      <td>142.700</td>\n",
       "      <td>144.3400</td>\n",
       "      <td>142.280</td>\n",
       "      <td>144.29</td>\n",
       "      <td>65874459.0</td>\n",
       "    </tr>\n",
       "    <tr>\n",
       "      <th>2023-02-01 20:00:00</th>\n",
       "      <td>NASDAQ:AAPL</td>\n",
       "      <td>143.970</td>\n",
       "      <td>146.6100</td>\n",
       "      <td>141.320</td>\n",
       "      <td>145.43</td>\n",
       "      <td>77663633.0</td>\n",
       "    </tr>\n",
       "    <tr>\n",
       "      <th>2023-02-02 20:00:00</th>\n",
       "      <td>NASDAQ:AAPL</td>\n",
       "      <td>148.900</td>\n",
       "      <td>151.1800</td>\n",
       "      <td>148.170</td>\n",
       "      <td>150.82</td>\n",
       "      <td>118338980.0</td>\n",
       "    </tr>\n",
       "    <tr>\n",
       "      <th>2023-02-03 20:00:00</th>\n",
       "      <td>NASDAQ:AAPL</td>\n",
       "      <td>148.030</td>\n",
       "      <td>157.3800</td>\n",
       "      <td>147.830</td>\n",
       "      <td>154.50</td>\n",
       "      <td>154357337.0</td>\n",
       "    </tr>\n",
       "    <tr>\n",
       "      <th>2023-02-06 20:00:00</th>\n",
       "      <td>NASDAQ:AAPL</td>\n",
       "      <td>152.575</td>\n",
       "      <td>153.1000</td>\n",
       "      <td>150.780</td>\n",
       "      <td>151.73</td>\n",
       "      <td>69858306.0</td>\n",
       "    </tr>\n",
       "    <tr>\n",
       "      <th>2023-02-07 20:00:00</th>\n",
       "      <td>NASDAQ:AAPL</td>\n",
       "      <td>150.640</td>\n",
       "      <td>155.2300</td>\n",
       "      <td>150.640</td>\n",
       "      <td>154.65</td>\n",
       "      <td>83322551.0</td>\n",
       "    </tr>\n",
       "    <tr>\n",
       "      <th>2023-02-08 20:00:00</th>\n",
       "      <td>NASDAQ:AAPL</td>\n",
       "      <td>153.880</td>\n",
       "      <td>154.5800</td>\n",
       "      <td>151.168</td>\n",
       "      <td>151.92</td>\n",
       "      <td>64120079.0</td>\n",
       "    </tr>\n",
       "    <tr>\n",
       "      <th>2023-02-09 20:00:00</th>\n",
       "      <td>NASDAQ:AAPL</td>\n",
       "      <td>153.775</td>\n",
       "      <td>154.3300</td>\n",
       "      <td>150.420</td>\n",
       "      <td>150.87</td>\n",
       "      <td>56007143.0</td>\n",
       "    </tr>\n",
       "    <tr>\n",
       "      <th>2023-02-10 20:00:00</th>\n",
       "      <td>NASDAQ:AAPL</td>\n",
       "      <td>149.460</td>\n",
       "      <td>151.3401</td>\n",
       "      <td>149.220</td>\n",
       "      <td>151.01</td>\n",
       "      <td>57450708.0</td>\n",
       "    </tr>\n",
       "  </tbody>\n",
       "</table>\n",
       "</div>"
      ],
      "text/plain": [
       "                          symbol     open      high      low   close  \\\n",
       "datetime                                                               \n",
       "2023-01-30 20:00:00  NASDAQ:AAPL  144.955  145.5500  142.850  143.00   \n",
       "2023-01-31 20:00:00  NASDAQ:AAPL  142.700  144.3400  142.280  144.29   \n",
       "2023-02-01 20:00:00  NASDAQ:AAPL  143.970  146.6100  141.320  145.43   \n",
       "2023-02-02 20:00:00  NASDAQ:AAPL  148.900  151.1800  148.170  150.82   \n",
       "2023-02-03 20:00:00  NASDAQ:AAPL  148.030  157.3800  147.830  154.50   \n",
       "2023-02-06 20:00:00  NASDAQ:AAPL  152.575  153.1000  150.780  151.73   \n",
       "2023-02-07 20:00:00  NASDAQ:AAPL  150.640  155.2300  150.640  154.65   \n",
       "2023-02-08 20:00:00  NASDAQ:AAPL  153.880  154.5800  151.168  151.92   \n",
       "2023-02-09 20:00:00  NASDAQ:AAPL  153.775  154.3300  150.420  150.87   \n",
       "2023-02-10 20:00:00  NASDAQ:AAPL  149.460  151.3401  149.220  151.01   \n",
       "\n",
       "                          volume  \n",
       "datetime                          \n",
       "2023-01-30 20:00:00   64015274.0  \n",
       "2023-01-31 20:00:00   65874459.0  \n",
       "2023-02-01 20:00:00   77663633.0  \n",
       "2023-02-02 20:00:00  118338980.0  \n",
       "2023-02-03 20:00:00  154357337.0  \n",
       "2023-02-06 20:00:00   69858306.0  \n",
       "2023-02-07 20:00:00   83322551.0  \n",
       "2023-02-08 20:00:00   64120079.0  \n",
       "2023-02-09 20:00:00   56007143.0  \n",
       "2023-02-10 20:00:00   57450708.0  "
      ]
     },
     "execution_count": 9,
     "metadata": {},
     "output_type": "execute_result"
    }
   ],
   "source": [
    "tv.get_hist('AAPL','NASDAQ',)"
   ]
  },
  {
   "cell_type": "code",
   "execution_count": 6,
   "metadata": {},
   "outputs": [
    {
     "data": {
      "text/html": [
       "<div>\n",
       "<style scoped>\n",
       "    .dataframe tbody tr th:only-of-type {\n",
       "        vertical-align: middle;\n",
       "    }\n",
       "\n",
       "    .dataframe tbody tr th {\n",
       "        vertical-align: top;\n",
       "    }\n",
       "\n",
       "    .dataframe thead th {\n",
       "        text-align: right;\n",
       "    }\n",
       "</style>\n",
       "<table border=\"1\" class=\"dataframe\">\n",
       "  <thead>\n",
       "    <tr style=\"text-align: right;\">\n",
       "      <th></th>\n",
       "      <th>symbol</th>\n",
       "      <th>open</th>\n",
       "      <th>high</th>\n",
       "      <th>low</th>\n",
       "      <th>close</th>\n",
       "      <th>volume</th>\n",
       "    </tr>\n",
       "    <tr>\n",
       "      <th>datetime</th>\n",
       "      <th></th>\n",
       "      <th></th>\n",
       "      <th></th>\n",
       "      <th></th>\n",
       "      <th></th>\n",
       "      <th></th>\n",
       "    </tr>\n",
       "  </thead>\n",
       "  <tbody>\n",
       "    <tr>\n",
       "      <th>2022-07-15 12:15:00</th>\n",
       "      <td>NSE:NIFTY</td>\n",
       "      <td>15949.45</td>\n",
       "      <td>15983.05</td>\n",
       "      <td>15927.30</td>\n",
       "      <td>15979.50</td>\n",
       "      <td>21558646.0</td>\n",
       "    </tr>\n",
       "    <tr>\n",
       "      <th>2022-07-15 13:15:00</th>\n",
       "      <td>NSE:NIFTY</td>\n",
       "      <td>15980.05</td>\n",
       "      <td>15992.25</td>\n",
       "      <td>15945.10</td>\n",
       "      <td>15992.25</td>\n",
       "      <td>25357416.0</td>\n",
       "    </tr>\n",
       "    <tr>\n",
       "      <th>2022-07-15 14:15:00</th>\n",
       "      <td>NSE:NIFTY</td>\n",
       "      <td>15993.65</td>\n",
       "      <td>16054.30</td>\n",
       "      <td>15987.90</td>\n",
       "      <td>16053.25</td>\n",
       "      <td>39190692.0</td>\n",
       "    </tr>\n",
       "    <tr>\n",
       "      <th>2022-07-15 15:15:00</th>\n",
       "      <td>NSE:NIFTY</td>\n",
       "      <td>16052.90</td>\n",
       "      <td>16066.95</td>\n",
       "      <td>16044.10</td>\n",
       "      <td>16052.85</td>\n",
       "      <td>19423958.0</td>\n",
       "    </tr>\n",
       "    <tr>\n",
       "      <th>2022-07-18 09:15:00</th>\n",
       "      <td>NSE:NIFTY</td>\n",
       "      <td>16152.30</td>\n",
       "      <td>16199.70</td>\n",
       "      <td>16142.20</td>\n",
       "      <td>16184.80</td>\n",
       "      <td>53958590.0</td>\n",
       "    </tr>\n",
       "    <tr>\n",
       "      <th>...</th>\n",
       "      <td>...</td>\n",
       "      <td>...</td>\n",
       "      <td>...</td>\n",
       "      <td>...</td>\n",
       "      <td>...</td>\n",
       "      <td>...</td>\n",
       "    </tr>\n",
       "    <tr>\n",
       "      <th>2023-02-10 11:15:00</th>\n",
       "      <td>NSE:NIFTY</td>\n",
       "      <td>17866.60</td>\n",
       "      <td>17876.95</td>\n",
       "      <td>17820.35</td>\n",
       "      <td>17823.75</td>\n",
       "      <td>21562199.0</td>\n",
       "    </tr>\n",
       "    <tr>\n",
       "      <th>2023-02-10 12:15:00</th>\n",
       "      <td>NSE:NIFTY</td>\n",
       "      <td>17824.15</td>\n",
       "      <td>17842.95</td>\n",
       "      <td>17815.90</td>\n",
       "      <td>17822.70</td>\n",
       "      <td>24809266.0</td>\n",
       "    </tr>\n",
       "    <tr>\n",
       "      <th>2023-02-10 13:15:00</th>\n",
       "      <td>NSE:NIFTY</td>\n",
       "      <td>17822.85</td>\n",
       "      <td>17859.25</td>\n",
       "      <td>17815.10</td>\n",
       "      <td>17850.55</td>\n",
       "      <td>38897505.0</td>\n",
       "    </tr>\n",
       "    <tr>\n",
       "      <th>2023-02-10 14:15:00</th>\n",
       "      <td>NSE:NIFTY</td>\n",
       "      <td>17850.10</td>\n",
       "      <td>17865.15</td>\n",
       "      <td>17823.65</td>\n",
       "      <td>17861.80</td>\n",
       "      <td>38252608.0</td>\n",
       "    </tr>\n",
       "    <tr>\n",
       "      <th>2023-02-10 15:15:00</th>\n",
       "      <td>NSE:NIFTY</td>\n",
       "      <td>17862.10</td>\n",
       "      <td>17864.40</td>\n",
       "      <td>17840.00</td>\n",
       "      <td>17843.35</td>\n",
       "      <td>17747095.0</td>\n",
       "    </tr>\n",
       "  </tbody>\n",
       "</table>\n",
       "<p>1000 rows × 6 columns</p>\n",
       "</div>"
      ],
      "text/plain": [
       "                        symbol      open      high       low     close  \\\n",
       "datetime                                                                 \n",
       "2022-07-15 12:15:00  NSE:NIFTY  15949.45  15983.05  15927.30  15979.50   \n",
       "2022-07-15 13:15:00  NSE:NIFTY  15980.05  15992.25  15945.10  15992.25   \n",
       "2022-07-15 14:15:00  NSE:NIFTY  15993.65  16054.30  15987.90  16053.25   \n",
       "2022-07-15 15:15:00  NSE:NIFTY  16052.90  16066.95  16044.10  16052.85   \n",
       "2022-07-18 09:15:00  NSE:NIFTY  16152.30  16199.70  16142.20  16184.80   \n",
       "...                        ...       ...       ...       ...       ...   \n",
       "2023-02-10 11:15:00  NSE:NIFTY  17866.60  17876.95  17820.35  17823.75   \n",
       "2023-02-10 12:15:00  NSE:NIFTY  17824.15  17842.95  17815.90  17822.70   \n",
       "2023-02-10 13:15:00  NSE:NIFTY  17822.85  17859.25  17815.10  17850.55   \n",
       "2023-02-10 14:15:00  NSE:NIFTY  17850.10  17865.15  17823.65  17861.80   \n",
       "2023-02-10 15:15:00  NSE:NIFTY  17862.10  17864.40  17840.00  17843.35   \n",
       "\n",
       "                         volume  \n",
       "datetime                         \n",
       "2022-07-15 12:15:00  21558646.0  \n",
       "2022-07-15 13:15:00  25357416.0  \n",
       "2022-07-15 14:15:00  39190692.0  \n",
       "2022-07-15 15:15:00  19423958.0  \n",
       "2022-07-18 09:15:00  53958590.0  \n",
       "...                         ...  \n",
       "2023-02-10 11:15:00  21562199.0  \n",
       "2023-02-10 12:15:00  24809266.0  \n",
       "2023-02-10 13:15:00  38897505.0  \n",
       "2023-02-10 14:15:00  38252608.0  \n",
       "2023-02-10 15:15:00  17747095.0  \n",
       "\n",
       "[1000 rows x 6 columns]"
      ]
     },
     "execution_count": 6,
     "metadata": {},
     "output_type": "execute_result"
    }
   ],
   "source": [
    "nifty_data=tv.get_hist('NIFTY','NSE',interval=Interval.hour_1,n_bars=1000)\n",
    "\n",
    "nifty_data"
   ]
  },
  {
   "cell_type": "code",
   "execution_count": 5,
   "metadata": {},
   "outputs": [
    {
     "name": "stdout",
     "output_type": "stream",
     "text": [
      "<class 'pandas.core.frame.DataFrame'>\n",
      "DatetimeIndex: 1000 entries, 2022-07-15 12:15:00 to 2023-02-10 15:15:00\n",
      "Data columns (total 6 columns):\n",
      " #   Column  Non-Null Count  Dtype  \n",
      "---  ------  --------------  -----  \n",
      " 0   symbol  1000 non-null   object \n",
      " 1   open    1000 non-null   float64\n",
      " 2   high    1000 non-null   float64\n",
      " 3   low     1000 non-null   float64\n",
      " 4   close   1000 non-null   float64\n",
      " 5   volume  1000 non-null   float64\n",
      "dtypes: float64(5), object(1)\n",
      "memory usage: 54.7+ KB\n"
     ]
    }
   ],
   "source": [
    "nifty_data.info()"
   ]
  },
  {
   "cell_type": "code",
   "execution_count": null,
   "metadata": {},
   "outputs": [],
   "source": [
    "nifty_data.close.plot(figsize=(15,10),use_index=False)"
   ]
  },
  {
   "cell_type": "code",
   "execution_count": null,
   "metadata": {},
   "outputs": [],
   "source": [
    "# futures data\n",
    "crudeoil_data=tv.get_hist('CRUDEOIL','MCX',Interval.in_2_hour,n_bars=5000,fut_contract=1)"
   ]
  },
  {
   "cell_type": "code",
   "execution_count": null,
   "metadata": {},
   "outputs": [],
   "source": [
    "crudeoil_data.close.plot(figsize=(15,10))"
   ]
  },
  {
   "cell_type": "code",
   "execution_count": null,
   "metadata": {},
   "outputs": [],
   "source": [
    "# cryptocurrencies\n",
    "btc_data=tv.get_hist('BTC','CME',Interval.in_1_minute,n_bars=5000,fut_contract=1)"
   ]
  },
  {
   "cell_type": "code",
   "execution_count": null,
   "metadata": {},
   "outputs": [],
   "source": [
    "btc_usd_data=tv.get_hist('BTCUSD','BINANCE',Interval.in_1_hour,n_bars=5000)"
   ]
  },
  {
   "cell_type": "code",
   "execution_count": null,
   "metadata": {},
   "outputs": [],
   "source": [
    "btc_usd_data.close.plot(figsize=(15,10))"
   ]
  },
  {
   "cell_type": "code",
   "execution_count": null,
   "metadata": {},
   "outputs": [],
   "source": [
    "etheur_data=tv.get_hist('ETHEUR','BINANCE',Interval.in_1_minute,5000)"
   ]
  },
  {
   "cell_type": "code",
   "execution_count": null,
   "metadata": {},
   "outputs": [],
   "source": [
    "etheur_data.close.plot(figsize=(15,10))"
   ]
  },
  {
   "cell_type": "code",
   "execution_count": null,
   "metadata": {},
   "outputs": [],
   "source": [
    "# plotting candlesticks chart\n",
    "\n",
    "import mplfinance as mpf"
   ]
  },
  {
   "cell_type": "code",
   "execution_count": null,
   "metadata": {},
   "outputs": [],
   "source": [
    "mpf.plot(etheur_data.head(100),type='candle',style='yahoo',volume=True)"
   ]
  },
  {
   "cell_type": "code",
   "execution_count": null,
   "metadata": {},
   "outputs": [],
   "source": [
    "etheur_data.to_csv('etheur.csv')"
   ]
  },
  {
   "cell_type": "code",
   "execution_count": null,
   "metadata": {},
   "outputs": [],
   "source": [
    "tv.search_symbol('WTI')"
   ]
  },
  {
   "cell_type": "code",
   "execution_count": null,
   "metadata": {},
   "outputs": [],
   "source": []
  }
 ],
 "metadata": {
  "kernelspec": {
   "display_name": "Python 3 (ipykernel)",
   "language": "python",
   "name": "python3"
  },
  "language_info": {
   "codemirror_mode": {
    "name": "ipython",
    "version": 3
   },
   "file_extension": ".py",
   "mimetype": "text/x-python",
   "name": "python",
   "nbconvert_exporter": "python",
   "pygments_lexer": "ipython3",
   "version": "3.9.13"
  }
 },
 "nbformat": 4,
 "nbformat_minor": 2
}
