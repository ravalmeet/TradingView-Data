{
 "cells": [
  {
   "cell_type": "code",
   "execution_count": 1,
   "metadata": {},
   "outputs": [],
   "source": [
    "%matplotlib inline"
   ]
  },
  {
   "cell_type": "code",
   "execution_count": 1,
   "metadata": {},
   "outputs": [],
   "source": [
    "from tvDatafeed import TredingViewData,Interval"
   ]
  },
  {
   "cell_type": "code",
   "execution_count": null,
   "metadata": {},
   "outputs": [],
   "source": []
  },
  {
   "cell_type": "code",
   "execution_count": 3,
   "metadata": {},
   "outputs": [],
   "source": [
    "# initialize tradingview\n",
    "\n",
    "tv = TredingViewData()"
   ]
  },
  {
   "cell_type": "code",
   "execution_count": 4,
   "metadata": {},
   "outputs": [
    {
     "data": {
      "text/html": [
       "<div>\n",
       "<style scoped>\n",
       "    .dataframe tbody tr th:only-of-type {\n",
       "        vertical-align: middle;\n",
       "    }\n",
       "\n",
       "    .dataframe tbody tr th {\n",
       "        vertical-align: top;\n",
       "    }\n",
       "\n",
       "    .dataframe thead th {\n",
       "        text-align: right;\n",
       "    }\n",
       "</style>\n",
       "<table border=\"1\" class=\"dataframe\">\n",
       "  <thead>\n",
       "    <tr style=\"text-align: right;\">\n",
       "      <th></th>\n",
       "      <th>symbol</th>\n",
       "      <th>open</th>\n",
       "      <th>high</th>\n",
       "      <th>low</th>\n",
       "      <th>close</th>\n",
       "      <th>volume</th>\n",
       "    </tr>\n",
       "    <tr>\n",
       "      <th>datetime</th>\n",
       "      <th></th>\n",
       "      <th></th>\n",
       "      <th></th>\n",
       "      <th></th>\n",
       "      <th></th>\n",
       "      <th></th>\n",
       "    </tr>\n",
       "  </thead>\n",
       "  <tbody>\n",
       "    <tr>\n",
       "      <th>2023-01-30 20:00:00</th>\n",
       "      <td>NASDAQ:AAPL</td>\n",
       "      <td>144.955</td>\n",
       "      <td>145.5500</td>\n",
       "      <td>142.850</td>\n",
       "      <td>143.00</td>\n",
       "      <td>64015274.0</td>\n",
       "    </tr>\n",
       "    <tr>\n",
       "      <th>2023-01-31 20:00:00</th>\n",
       "      <td>NASDAQ:AAPL</td>\n",
       "      <td>142.700</td>\n",
       "      <td>144.3400</td>\n",
       "      <td>142.280</td>\n",
       "      <td>144.29</td>\n",
       "      <td>65874459.0</td>\n",
       "    </tr>\n",
       "    <tr>\n",
       "      <th>2023-02-01 20:00:00</th>\n",
       "      <td>NASDAQ:AAPL</td>\n",
       "      <td>143.970</td>\n",
       "      <td>146.6100</td>\n",
       "      <td>141.320</td>\n",
       "      <td>145.43</td>\n",
       "      <td>77663633.0</td>\n",
       "    </tr>\n",
       "    <tr>\n",
       "      <th>2023-02-02 20:00:00</th>\n",
       "      <td>NASDAQ:AAPL</td>\n",
       "      <td>148.900</td>\n",
       "      <td>151.1800</td>\n",
       "      <td>148.170</td>\n",
       "      <td>150.82</td>\n",
       "      <td>118338980.0</td>\n",
       "    </tr>\n",
       "    <tr>\n",
       "      <th>2023-02-03 20:00:00</th>\n",
       "      <td>NASDAQ:AAPL</td>\n",
       "      <td>148.030</td>\n",
       "      <td>157.3800</td>\n",
       "      <td>147.830</td>\n",
       "      <td>154.50</td>\n",
       "      <td>154357337.0</td>\n",
       "    </tr>\n",
       "    <tr>\n",
       "      <th>2023-02-06 20:00:00</th>\n",
       "      <td>NASDAQ:AAPL</td>\n",
       "      <td>152.575</td>\n",
       "      <td>153.1000</td>\n",
       "      <td>150.780</td>\n",
       "      <td>151.73</td>\n",
       "      <td>69858306.0</td>\n",
       "    </tr>\n",
       "    <tr>\n",
       "      <th>2023-02-07 20:00:00</th>\n",
       "      <td>NASDAQ:AAPL</td>\n",
       "      <td>150.640</td>\n",
       "      <td>155.2300</td>\n",
       "      <td>150.640</td>\n",
       "      <td>154.65</td>\n",
       "      <td>83322551.0</td>\n",
       "    </tr>\n",
       "    <tr>\n",
       "      <th>2023-02-08 20:00:00</th>\n",
       "      <td>NASDAQ:AAPL</td>\n",
       "      <td>153.880</td>\n",
       "      <td>154.5800</td>\n",
       "      <td>151.168</td>\n",
       "      <td>151.92</td>\n",
       "      <td>64120079.0</td>\n",
       "    </tr>\n",
       "    <tr>\n",
       "      <th>2023-02-09 20:00:00</th>\n",
       "      <td>NASDAQ:AAPL</td>\n",
       "      <td>153.775</td>\n",
       "      <td>154.3300</td>\n",
       "      <td>150.420</td>\n",
       "      <td>150.87</td>\n",
       "      <td>56007143.0</td>\n",
       "    </tr>\n",
       "    <tr>\n",
       "      <th>2023-02-10 20:00:00</th>\n",
       "      <td>NASDAQ:AAPL</td>\n",
       "      <td>149.460</td>\n",
       "      <td>151.3401</td>\n",
       "      <td>149.220</td>\n",
       "      <td>151.01</td>\n",
       "      <td>57450708.0</td>\n",
       "    </tr>\n",
       "  </tbody>\n",
       "</table>\n",
       "</div>"
      ],
      "text/plain": [
       "                          symbol     open      high      low   close  \\\n",
       "datetime                                                               \n",
       "2023-01-30 20:00:00  NASDAQ:AAPL  144.955  145.5500  142.850  143.00   \n",
       "2023-01-31 20:00:00  NASDAQ:AAPL  142.700  144.3400  142.280  144.29   \n",
       "2023-02-01 20:00:00  NASDAQ:AAPL  143.970  146.6100  141.320  145.43   \n",
       "2023-02-02 20:00:00  NASDAQ:AAPL  148.900  151.1800  148.170  150.82   \n",
       "2023-02-03 20:00:00  NASDAQ:AAPL  148.030  157.3800  147.830  154.50   \n",
       "2023-02-06 20:00:00  NASDAQ:AAPL  152.575  153.1000  150.780  151.73   \n",
       "2023-02-07 20:00:00  NASDAQ:AAPL  150.640  155.2300  150.640  154.65   \n",
       "2023-02-08 20:00:00  NASDAQ:AAPL  153.880  154.5800  151.168  151.92   \n",
       "2023-02-09 20:00:00  NASDAQ:AAPL  153.775  154.3300  150.420  150.87   \n",
       "2023-02-10 20:00:00  NASDAQ:AAPL  149.460  151.3401  149.220  151.01   \n",
       "\n",
       "                          volume  \n",
       "datetime                          \n",
       "2023-01-30 20:00:00   64015274.0  \n",
       "2023-01-31 20:00:00   65874459.0  \n",
       "2023-02-01 20:00:00   77663633.0  \n",
       "2023-02-02 20:00:00  118338980.0  \n",
       "2023-02-03 20:00:00  154357337.0  \n",
       "2023-02-06 20:00:00   69858306.0  \n",
       "2023-02-07 20:00:00   83322551.0  \n",
       "2023-02-08 20:00:00   64120079.0  \n",
       "2023-02-09 20:00:00   56007143.0  \n",
       "2023-02-10 20:00:00   57450708.0  "
      ]
     },
     "execution_count": 4,
     "metadata": {},
     "output_type": "execute_result"
    }
   ],
   "source": [
    "tv.get_hist('AAPL','NASDAQ',)"
   ]
  },
  {
   "cell_type": "code",
   "execution_count": 5,
   "metadata": {},
   "outputs": [],
   "source": [
    "nifty_data=tv.get_hist('NIFTY','NSE',interval=Interval.in_1_hour,n_bars=1000)"
   ]
  },
  {
   "cell_type": "code",
   "execution_count": null,
   "metadata": {},
   "outputs": [],
   "source": [
    "nifty_data.info()"
   ]
  },
  {
   "cell_type": "code",
   "execution_count": null,
   "metadata": {},
   "outputs": [],
   "source": [
    "nifty_data.close.plot(figsize=(15,10),use_index=False)"
   ]
  },
  {
   "cell_type": "code",
   "execution_count": null,
   "metadata": {},
   "outputs": [],
   "source": [
    "# futures data\n",
    "crudeoil_data=tv.get_hist('CRUDEOIL','MCX',Interval.in_2_hour,n_bars=5000,fut_contract=1)"
   ]
  },
  {
   "cell_type": "code",
   "execution_count": null,
   "metadata": {},
   "outputs": [],
   "source": [
    "crudeoil_data.close.plot(figsize=(15,10))"
   ]
  },
  {
   "cell_type": "code",
   "execution_count": null,
   "metadata": {},
   "outputs": [],
   "source": [
    "# cryptocurrencies\n",
    "btc_data=tv.get_hist('BTC','CME',Interval.in_1_minute,n_bars=5000,fut_contract=1)"
   ]
  },
  {
   "cell_type": "code",
   "execution_count": null,
   "metadata": {},
   "outputs": [],
   "source": [
    "btc_usd_data=tv.get_hist('BTCUSD','BINANCE',Interval.in_1_hour,n_bars=5000)"
   ]
  },
  {
   "cell_type": "code",
   "execution_count": null,
   "metadata": {},
   "outputs": [],
   "source": [
    "btc_usd_data.close.plot(figsize=(15,10))"
   ]
  },
  {
   "cell_type": "code",
   "execution_count": null,
   "metadata": {},
   "outputs": [],
   "source": [
    "etheur_data=tv.get_hist('ETHEUR','BINANCE',Interval.in_1_minute,5000)"
   ]
  },
  {
   "cell_type": "code",
   "execution_count": null,
   "metadata": {},
   "outputs": [],
   "source": [
    "etheur_data.close.plot(figsize=(15,10))"
   ]
  },
  {
   "cell_type": "code",
   "execution_count": null,
   "metadata": {},
   "outputs": [],
   "source": [
    "# plotting candlesticks chart\n",
    "\n",
    "import mplfinance as mpf"
   ]
  },
  {
   "cell_type": "code",
   "execution_count": null,
   "metadata": {},
   "outputs": [],
   "source": [
    "mpf.plot(etheur_data.head(100),type='candle',style='yahoo',volume=True)"
   ]
  },
  {
   "cell_type": "code",
   "execution_count": null,
   "metadata": {},
   "outputs": [],
   "source": [
    "etheur_data.to_csv('etheur.csv')"
   ]
  },
  {
   "cell_type": "code",
   "execution_count": null,
   "metadata": {},
   "outputs": [],
   "source": [
    "tv.search_symbol('WTI')"
   ]
  },
  {
   "cell_type": "code",
   "execution_count": null,
   "metadata": {},
   "outputs": [],
   "source": []
  }
 ],
 "metadata": {
  "kernelspec": {
   "display_name": "Python 3 (ipykernel)",
   "language": "python",
   "name": "python3"
  },
  "language_info": {
   "codemirror_mode": {
    "name": "ipython",
    "version": 3
   },
   "file_extension": ".py",
   "mimetype": "text/x-python",
   "name": "python",
   "nbconvert_exporter": "python",
   "pygments_lexer": "ipython3",
   "version": "3.9.13"
  }
 },
 "nbformat": 4,
 "nbformat_minor": 2
}
